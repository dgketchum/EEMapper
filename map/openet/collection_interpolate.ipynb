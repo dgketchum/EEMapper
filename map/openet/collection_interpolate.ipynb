{
 "cells": [
  {
   "cell_type": "markdown",
   "metadata": {},
   "source": [
    "# OpenET SSEBop\n",
    "## Collection \"Interpolate\" Examples"
   ]
  },
  {
   "cell_type": "code",
   "execution_count": 31,
   "metadata": {},
   "outputs": [],
   "source": [
    "import ee\n",
    "from pprint import pprint\n",
    "from datetime import datetime, timedelta\n",
    "from dateutil.rrule import rrule, DAILY\n",
    "\n",
    "from IPython.display import Image\n",
    "from map.openet.collection import Collection\n",
    "from map.openet.collection import build_target\n",
    "\n",
    "ee.Initialize(use_cloud_api=True)"
   ]
  },
  {
   "cell_type": "code",
   "execution_count": 32,
   "metadata": {},
   "outputs": [
    {
     "name": "stdout",
     "output_type": "stream",
     "text": [
      "['LANDSAT/LC08/C01/T1_SR/LC08_044033_20170105',\n",
      " 'LANDSAT/LC08/C01/T1_SR/LC08_044033_20170121',\n",
      " 'LANDSAT/LC08/C01/T1_SR/LC08_044033_20170222',\n",
      " 'LANDSAT/LC08/C01/T1_SR/LC08_044033_20170427',\n",
      " 'LANDSAT/LC08/C01/T1_SR/LC08_044033_20170513',\n",
      " 'LANDSAT/LC08/C01/T1_SR/LC08_044033_20170529',\n",
      " 'LANDSAT/LC08/C01/T1_SR/LC08_044033_20170614',\n",
      " 'LANDSAT/LC08/C01/T1_SR/LC08_044033_20170630',\n",
      " 'LANDSAT/LC08/C01/T1_SR/LC08_044033_20170716',\n",
      " 'LANDSAT/LC08/C01/T1_SR/LC08_044033_20170801',\n",
      " 'LANDSAT/LC08/C01/T1_SR/LC08_044033_20170817',\n",
      " 'LANDSAT/LC08/C01/T1_SR/LC08_044033_20170902',\n",
      " 'LANDSAT/LC08/C01/T1_SR/LC08_044033_20170918',\n",
      " 'LANDSAT/LC08/C01/T1_SR/LC08_044033_20171004',\n",
      " 'LANDSAT/LC08/C01/T1_SR/LC08_044033_20171020',\n",
      " 'LANDSAT/LC08/C01/T1_SR/LC08_044033_20171105',\n",
      " 'LANDSAT/LC08/C01/T1_SR/LC08_044033_20171121',\n",
      " 'LANDSAT/LC08/C01/T1_SR/LC08_044033_20171207',\n",
      " 'LANDSAT/LC08/C01/T1_SR/LC08_044033_20171223',\n",
      " 'LANDSAT/LE07/C01/T1_SR/LE07_044033_20170113',\n",
      " 'LANDSAT/LE07/C01/T1_SR/LE07_044033_20170129',\n",
      " 'LANDSAT/LE07/C01/T1_SR/LE07_044033_20170214',\n",
      " 'LANDSAT/LE07/C01/T1_SR/LE07_044033_20170302',\n",
      " 'LANDSAT/LE07/C01/T1_SR/LE07_044033_20170403',\n",
      " 'LANDSAT/LE07/C01/T1_SR/LE07_044033_20170419',\n",
      " 'LANDSAT/LE07/C01/T1_SR/LE07_044033_20170505',\n",
      " 'LANDSAT/LE07/C01/T1_SR/LE07_044033_20170521',\n",
      " 'LANDSAT/LE07/C01/T1_SR/LE07_044033_20170606',\n",
      " 'LANDSAT/LE07/C01/T1_SR/LE07_044033_20170622',\n",
      " 'LANDSAT/LE07/C01/T1_SR/LE07_044033_20170708',\n",
      " 'LANDSAT/LE07/C01/T1_SR/LE07_044033_20170724',\n",
      " 'LANDSAT/LE07/C01/T1_SR/LE07_044033_20170809',\n",
      " 'LANDSAT/LE07/C01/T1_SR/LE07_044033_20170825',\n",
      " 'LANDSAT/LE07/C01/T1_SR/LE07_044033_20170910',\n",
      " 'LANDSAT/LE07/C01/T1_SR/LE07_044033_20170926',\n",
      " 'LANDSAT/LE07/C01/T1_SR/LE07_044033_20171012',\n",
      " 'LANDSAT/LE07/C01/T1_SR/LE07_044033_20171028',\n",
      " 'LANDSAT/LE07/C01/T1_SR/LE07_044033_20171129']\n"
     ]
    }
   ],
   "source": [
    "ndvi_palette = ['#EFE7E1', '#003300']\n",
    "et_palette = [\n",
    "    'DEC29B', 'E6CDA1', 'EDD9A6', 'F5E4A9', 'FFF4AD', 'C3E683', '6BCC5C', \n",
    "    '3BB369', '20998F', '1C8691', '16678A', '114982', '0B2C7A']\n",
    "\n",
    "image_size = 768\n",
    "landsat_cs = 30\n",
    "\n",
    "collections = ['LANDSAT/LC08/C01/T1_SR',\n",
    "               'LANDSAT/LE07/C01/T1_SR',\n",
    "               'LANDSAT/LT05/C01/T1_SR']\n",
    "\n",
    "year = 2017\n",
    "s = datetime(year, 1, 1)\n",
    "e = datetime(year + 1, 1, 1)\n",
    "d_times = [(d, d + timedelta(days=1)) for d in rrule(dtstart=s, until=e, interval=24, freq=DAILY)]\n",
    "d_strings = [(x.strftime('%Y-%m-%d'), y.strftime('%Y-%m-%d')) for x, y in d_times]\n",
    "\n",
    "cloud_cover = 100\n",
    "interp_days = 32\n",
    "interp_method = 'LINEAR'\n",
    "\n",
    "test_xy = [-121.5265, 38.7399]\n",
    "test_point = ee.Geometry.Point(test_xy)\n",
    "\n",
    "# study_area = ee.Geometry.Rectangle(-122.00, 38.60, -121.00, 39.0)\n",
    "study_area = ee.Geometry.Rectangle(\n",
    "    test_xy[0] - 0.08, test_xy[1] - 0.04,\n",
    "    test_xy[0] + 0.08, test_xy[1] + 0.04)\n",
    "study_region = study_area.bounds(1, 'EPSG:4326')\n",
    "study_crs = 'EPSG:32610'\n",
    "\n",
    "target = build_target(d_strings)\n",
    "\n",
    "model_obj = Collection(\n",
    "    collections=collections,\n",
    "    start_date=s,\n",
    "    end_date=e,\n",
    "    geometry=test_point,\n",
    "    cloud_cover_max=70)\n",
    "\n",
    "variables = ['blue', 'green', 'red', 'nir', 'swir1', 'swir2', 'tir', 'ndvi']\n",
    "daily_coll = model_obj.interpolate(target,\n",
    "                                   variables=variables,\n",
    "                                   interp_days=interp_days)\n",
    "\n",
    "pprint(model_obj.get_image_ids())\n",
    "\n",
    "# ndvi_palette = ['#EFE7E1', '#003300']\n",
    "# image = ee.Image(daily_coll.select(['ndvi'])).mean().reproject(crs=study_crs, scale=100).getInfo()\n",
    "# print(image)\n",
    "# image_url = image.getThumbURL({'min': -1.0, 'max': 1.0, 'palette': ndvi_palette,\n",
    "#                   'region': study_region, 'dimensions': image_size})\n",
    "# Image(image_url, embed=True, format='png')"
   ]
  },
  {
   "cell_type": "code",
   "execution_count": 32,
   "metadata": {
    "pycharm": {
     "name": "#%%\n"
    }
   },
   "outputs": [],
   "source": []
  }
 ],
 "metadata": {
  "kernelspec": {
   "name": "pycharm-f4b82510",
   "language": "python",
   "display_name": "PyCharm (EEMapper)"
  },
  "language_info": {
   "codemirror_mode": {
    "name": "ipython",
    "version": 3
   },
   "file_extension": ".py",
   "mimetype": "text/x-python",
   "name": "python",
   "nbconvert_exporter": "python",
   "pygments_lexer": "ipython3",
   "version": "3.6.9"
  }
 },
 "nbformat": 4,
 "nbformat_minor": 4
}